{
  "nbformat": 4,
  "nbformat_minor": 0,
  "metadata": {
    "colab": {
      "provenance": [],
      "include_colab_link": true
    },
    "kernelspec": {
      "name": "python3",
      "display_name": "Python 3"
    },
    "language_info": {
      "name": "python"
    }
  },
  "cells": [
    {
      "cell_type": "markdown",
      "metadata": {
        "id": "view-in-github",
        "colab_type": "text"
      },
      "source": [
        "<a href=\"https://colab.research.google.com/github/SureshNaid/DataTypes/blob/main/ad.ipynb\" target=\"_parent\"><img src=\"https://colab.research.google.com/assets/colab-badge.svg\" alt=\"Open In Colab\"/></a>"
      ]
    },
    {
      "cell_type": "code",
      "execution_count": null,
      "metadata": {
        "colab": {
          "base_uri": "https://localhost:8080/",
          "height": 106
        },
        "id": "QBaGdbCudy9R",
        "outputId": "2372fe65-4951-477d-c5d0-48bd154739c1"
      },
      "outputs": [
        {
          "output_type": "error",
          "ename": "SyntaxError",
          "evalue": "invalid non-printable character U+200B (<ipython-input-1-0f28a4b1c7bc>, line 51)",
          "traceback": [
            "\u001b[0;36m  File \u001b[0;32m\"<ipython-input-1-0f28a4b1c7bc>\"\u001b[0;36m, line \u001b[0;32m51\u001b[0m\n\u001b[0;31m    ​\u001b[0m\n\u001b[0m    ^\u001b[0m\n\u001b[0;31mSyntaxError\u001b[0m\u001b[0;31m:\u001b[0m invalid non-printable character U+200B\n"
          ]
        }
      ],
      "source": [
        "addition +\n",
        "subtraction -\n",
        "mutliplication *\n",
        "division /\n",
        "modulus %\n",
        "power **\n",
        "a=8\n",
        "b=4\n",
        "a+b\n",
        "12\n",
        "a**b\n",
        "4096\n",
        "8/2\n",
        "4.0\n",
        "66.45/2\n",
        "33.225\n",
        "23%2\n",
        "1\n",
        "a*b\n",
        "32\n",
        "> < >= <= == !=\n",
        "a<b\n",
        "False\n",
        "a>10\n",
        "False\n",
        "a==10\n",
        "False\n",
        "a\n",
        "10\n",
        "a=50\n",
        "b=45\n",
        "a\n",
        "50\n",
        "b\n",
        "45\n",
        "# Logical operators\n",
        "and or not\n",
        "\n",
        "a>b\n",
        "True\n",
        "a>100\n",
        "False\n",
        "(a>b) and (a>100)\n",
        "False\n",
        "(a>b) or (a>100)\n",
        "True\n",
        "#q1\n",
        "x=34.56\n",
        "y=3.5\n",
        "# all arithmatic operators\n",
        "# all comparsion operators\n",
        "# and or\n",
        "s=x+y\n",
        "s\n",
        "38.06"
      ]
    },
    {
      "cell_type": "code",
      "source": [
        "print(\"Hello, World!\")"
      ],
      "metadata": {
        "id": "l2hBWmvwhWWs",
        "colab": {
          "base_uri": "https://localhost:8080/"
        },
        "outputId": "1aa159ac-30f3-4c8e-a404-f968e729b948"
      },
      "execution_count": 1,
      "outputs": [
        {
          "output_type": "stream",
          "name": "stdout",
          "text": [
            "Hello, World!\n"
          ]
        }
      ]
    },
    {
      "cell_type": "code",
      "source": [
        "a=45\n",
        "print(a)"
      ],
      "metadata": {
        "id": "HVFPq5Nvk-Q6",
        "outputId": "78e23c11-0fe9-4eca-8940-87f2ccf2aa17",
        "colab": {
          "base_uri": "https://localhost:8080/"
        }
      },
      "execution_count": 2,
      "outputs": [
        {
          "output_type": "stream",
          "name": "stdout",
          "text": [
            "45\n"
          ]
        }
      ]
    },
    {
      "cell_type": "code",
      "source": [],
      "metadata": {
        "id": "LNIbL5Jik9Q2"
      },
      "execution_count": null,
      "outputs": []
    }
  ]
}